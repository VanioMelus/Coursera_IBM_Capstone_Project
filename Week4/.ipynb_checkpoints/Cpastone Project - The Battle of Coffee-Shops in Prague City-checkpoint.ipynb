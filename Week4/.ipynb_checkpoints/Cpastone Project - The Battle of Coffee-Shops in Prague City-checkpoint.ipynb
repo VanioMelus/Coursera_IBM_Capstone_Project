{
 "cells": [
  {
   "cell_type": "markdown",
   "metadata": {},
   "source": [
    "<a href=\"https://cognitiveclass.ai\"><img src = \"https://ibm.box.com/shared/static/9gegpsmnsoo25ikkbl4qzlvlyjbgxs5x.png\" width = 400> </a>\n",
    "\n",
    "<h1 align=left><font size = 5>Capstone Project: The Battle of Coffee-Shops in Prague City\n",
    "</font></h1>"
   ]
  },
  {
   "cell_type": "markdown",
   "metadata": {},
   "source": [
    "### Table of Contents\n",
    "\n",
    "<div class=\"alert alert-block alert-info\" style=\"margin-top: 20px\">\n",
    "\n",
    "<font size = 3>\n",
    "\n",
    "1.  <a href=\"#item1\">INTRODUCTION</a>\n",
    "\n",
    "2.  <a href=\"#item2\">DATA</a>\n",
    "\n",
    "3.  <a href=\"#item3\">METHODOLOGY</a>\n",
    "\n",
    "4.  <a href=\"#item4\">MACHINE LEARNING</a>\n",
    "\n",
    "5.  <a href=\"#item5\">RESULTS AND DISCUSSIONS</a>  \n",
    "\n",
    "5.  <a href=\"#item5\">CONCLUSION</a>  \n",
    "    \n",
    "    </font>\n",
    "    </div>"
   ]
  },
  {
   "cell_type": "markdown",
   "metadata": {},
   "source": [
    "<a href=\"#item1\"> 1. INTRODUCTION</a>\n",
    "\n",
    "<a href=\"#item1\"> 1.1. Business Problem\n",
    "\n",
    "   An investor wants to open a new coffee shop in Prague but he isn’t convinced yet about the location based only in the information they have acquired so far.    He requested us to    complement his study analysing the local based in few more criteria which were missed out in the initial report:\n",
    "\n",
    "   * A detailed mapping of existents coffee shops per region\n",
    "   * A demographic study of each region to help them to target the right population niche\n",
    "   * Add tourism potential into perspective. Prague receives about 8.2 million tourists per year\n",
    "   * Use companies size (# employees) to spot areas with high business movement\n",
    "\n",
    "   We will add to the data analysis above Machine Learning algorithm to mining for the gold spot and find the best location to open a coffee-shop in Prague        based on these criteria. \n",
    "\n",
    "<a href=\"#item1\"> 1.2. Target Audience\n",
    "\n",
    "  This project is aimed towards investors or business owners who want to open a new coffee-shop in Prague city and also to current coffee shop owners who         wants to improve their current business. The results and findings on this report provides crucial information to back-up the place location.\n"
   ]
  },
  {
   "cell_type": "markdown",
   "metadata": {},
   "source": [
    "<a href=\"#item1\"> 2. DATA\n",
    "\n",
    "<a href=\"#item1\"> 2.1. Data Acquisition\n",
    "\n",
    "   Data used in this work were obtained from several available public databases and come in different formats. \n",
    "\n",
    "   * Prague City and administrative districts borders<br /> \n",
    "        Shape file (or json) format which contains geographic coordinates, borders and area of each administrative district of Prague.<br />  \n",
    "        Shapefile data: <http://opendata.iprpraha.cz/CUR/DTMP/TMMESTSKECASTI_P/S_JTSK/TMMESTSKECASTI_P.json>\n",
    "        \n",
    "        The shapefile format was transformed to a geojson data set using statsilk free service<br /> \n",
    "        <https://www.statsilk.com/maps/convert-esri-shapefile-map-geojson-format>\n",
    "    \n",
    "   * Geopy data<br /> \n",
    "        We will use geopy to obtain coordinates of specific addresses<br /> \n",
    "        We will generate a database of addresses from the coordinates points of the administractive districts<br /> \n",
    "        Source: geopy library\n",
    "        \n",
    "   * Foursquare venues location data API endpoint<br /> \n",
    "        Based on the geodata and geo coordinates, we will use foursquare venues API endpoint to obtain the list of coffee-shops in Prague city. \n",
    "        <https://developer.foursquare.com/docs>\n",
    "\n",
    "   * Prague city demographic distribution data<br /> \n",
    "        Demographic of Prague city per administrative districts 2019 census. \n",
    "        Data source as excel file at Czech Statistical Office:  <https://www.czso.cz/csu/czso/statistical-yearbook-of-prague-2019>\n",
    "\n",
    "   * Prague city tourism distribution data<br /> \n",
    "        Guests in collective tourist accommodation establishments by administrative district in 2019. \n",
    "        Data source as excel file at Czech Statistical Office: <https://www.czso.cz/csu/czso/statistical-yearbook-of-prague-2019>\n",
    "\n",
    "   * Prague city companies size distribution per administrative district <br /> \n",
    "        Companies size of Prague city by administrative districts 2019 census.\n",
    "        Data source as excel file at Czech Statistical Office: <https://www.czso.cz/csu/czso/statistical-yearbook-of-prague-2019>\n"
   ]
  },
  {
   "cell_type": "code",
   "execution_count": null,
   "metadata": {},
   "outputs": [],
   "source": []
  }
 ],
 "metadata": {
  "kernelspec": {
   "display_name": "Python",
   "language": "python",
   "name": "conda-env-python-py"
  },
  "language_info": {
   "codemirror_mode": {
    "name": "ipython",
    "version": 3
   },
   "file_extension": ".py",
   "mimetype": "text/x-python",
   "name": "python",
   "nbconvert_exporter": "python",
   "pygments_lexer": "ipython3",
   "version": "3.6.12"
  }
 },
 "nbformat": 4,
 "nbformat_minor": 4
}
